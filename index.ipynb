{
 "cells": [
  {
   "cell_type": "markdown",
   "metadata": {},
   "source": [
    "## Resilient Distributed Datasets (RDDs) - Lab\n",
    "\n",
    "Resilient Distributed Datasets (RDD) are fundamental data structures of Spark. An RDD is essentially the Spark representation of a set of data, spread across multiple machines, with APIs to let you act on it. An RDD can come from any data source, e.g. text files, a database, a JSON file, etc.\n",
    "\n",
    "\n",
    "## Objectives\n",
    "\n",
    "You will be able to:\n",
    "\n",
    "- Apply the map(func) transformation to a given function on all elements of an RDD in different partitions \n",
    "- Apply a map transformation for all elements of an RDD \n",
    "- Compare the difference between a transformation and an action within RDDs \n",
    "- Use collect(), count(), and take() actions to trigger spark transformations  \n",
    "- Use filter to select data that meets certain specifications within an RDD \n",
    "- Set number of partitions for parallelizing RDDs \n",
    "- Create RDDs from Python collections \n"
   ]
  },
  {
   "cell_type": "markdown",
   "metadata": {},
   "source": [
    "## What are RDDs? \n",
    "\n",
    "To get a better understanding of RDDs, let's break down each one of the components of the acronym RDD:\n",
    "\n",
    "Resilient: RDDs are considered \"resilient\" because they have built-in fault tolerance. This means that even if one of the nodes goes offline, RDDs will be able to restore the data. This is already a huge advantage compared to standard storage. If a standard computer dies while performing an operation, all of its memory will be lost in the process. With RDDs, multiple nodes can go offline, and the action will still be held in working memory.\n",
    "\n",
    "Distributed: The data is contained on multiple nodes of a cluster-computing operation. It is efficiently partitioned to allow for parallelism.\n",
    "\n",
    "Dataset: The dataset has been * partitioned * across the multiple nodes. \n",
    "\n",
    "RDDs are the building block upon which more high-level Spark operations are based upon. Chances are, if you are performing an action using Spark, the operation involves RDDs. \n",
    "\n",
    "\n",
    "\n",
    "Key Characteristics of RDDs:\n",
    "\n",
    "- Immutable: Once an RDD is created, it cannot be modified. \n",
    "- Lazily Evaluated: RDDs will not be evaluated until an action is triggered. Essentially, when RDDs are created, they are programmed to perform some action, but that function will not get activated until it is explicitly called. The reason for lazy evaluation is that allows users to organize the actions of their Spark program into smaller actions. It also saves unnecessary computation and memory load.\n",
    "- In-Memory: The operations in Spark are performed in-memory rather than in the database. This is what allows Spark to perform fast operations with very large quantities of data.\n",
    "\n",
    "\n"
   ]
  },
  {
   "cell_type": "markdown",
   "metadata": {},
   "source": [
    "### RDD Transformations vs Actions\n",
    "\n",
    "In Spark, we first create a __base RDD__ and then apply one or more transformations to that base RDD following our processing needs. Being immutable means, **once an RDD is created, it cannot be changed**. As a result, **each transformation of an RDD creates a new RDD**. Finally, we can apply one or more **actions** to the RDDs. Spark uses lazy evaluation, so transformations are not actually executed until an action occurs.\n",
    "\n",
    "\n",
    "<img src=\"./images/rdd_diagram.png\" width=500>"
   ]
  },
  {
   "cell_type": "markdown",
   "metadata": {},
   "source": [
    "### Transformations\n",
    "\n",
    "Transformations create a new dataset from an existing one by passing each dataset element through a function and returning a new RDD representing the results. In short, creating an RDD from an existing RDD is ‘transformation’.\n",
    "All transformations in Spark are lazy. They do not compute their results right away. Instead, they just remember the transformations applied to some base dataset (e.g. a file). The transformations are only computed when an action requires a result that needs to be returned to the driver program.\n",
    "A transformation is an RDD that returns another RDD, like map, flatMap, filter, reduceByKey, join, cogroup, etc.\n",
    "\n",
    "### Actions\n",
    "Actions return final results of RDD computations. Actions trigger execution using lineage graph to load the data into original RDD and carry out all intermediate transformations and return the final results to the driver program or writes it out to the file system. An action returns a value (to a Spark driver - the user program).\n",
    "\n",
    "Here are some key transformations and actions that we will explore.\n",
    "\n",
    "\n",
    "| Transformations   | Actions       |\n",
    "|-------------------|---------------|\n",
    "| map(func)         | reduce(func)  |\n",
    "| filter(func)      | collect()     |\n",
    "| groupByKey()      | count()       |\n",
    "| reduceByKey(func) | first()       |\n",
    "| mapValues(func)   | take()        |\n",
    "| sample()          | countByKey()  |\n",
    "| distinct()        | foreach(func) |\n",
    "| sortByKey()       |               |\n"
   ]
  },
  {
   "cell_type": "markdown",
   "metadata": {},
   "source": [
    "Let's see how transformations and actions work through a simple example. In this example, we will perform several actions and transformations on RDDs in order to obtain a better understanding of Spark processing. \n",
    "\n",
    "### Create a Python collection \n",
    "\n",
    "We need some data to start experimenting with RDDs. Let's create some sample data and see how RDDs handle it. To practice working with RDDs, we're going to use a simple Python list.\n",
    "\n",
    "- Create a Python list `data` of integers between 1 and 1000 using the `range()` function. \n",
    "- Sanity check: confirm the length of the list (it should be 1000)"
   ]
  },
  {
   "cell_type": "code",
   "execution_count": 1,
   "metadata": {},
   "outputs": [
    {
     "data": {
      "text/plain": [
       "1000"
      ]
     },
     "execution_count": 1,
     "metadata": {},
     "output_type": "execute_result"
    }
   ],
   "source": [
    "data = list(range(1, 1001))\n",
    "len(data)\n",
    "\n",
    "# 1000"
   ]
  },
  {
   "cell_type": "markdown",
   "metadata": {},
   "source": [
    "### Initialize an RDD\n",
    "\n",
    "When using Spark to make computations, datasets are treated as lists of entries. Those lists are split into different partitions across different cores or different computers. Each list of data held in memory is a partition of the RDD. The reason why Spark is able to make computations far faster than other big data processing languages is that it allows all data to be stored __in-memory__, which allows for easy access to the data and, in turn, high-speed processing. Here is an example of how the alphabet might be split into different RDDs and held across a distributed collection of nodes:\n",
    "\n",
    "<img src =\"./images/partitions_1.png\" width =\"500\">  \n",
    "To initialize an RDD, first import `pyspark` and then create a SparkContext assigned to the variable `sc`. Use `'local[*]'` as the master."
   ]
  },
  {
   "cell_type": "code",
   "execution_count": 2,
   "metadata": {},
   "outputs": [],
   "source": [
    "import pyspark\n",
    "sc = pyspark.SparkContext('local[*]')"
   ]
  },
  {
   "cell_type": "markdown",
   "metadata": {},
   "source": [
    "Once you've created the SparkContext, you can use the `.parallelize()` method to create an RDD that will distribute the list of numbers across multiple cores. Here, create one called `rdd` with 10 partitions using `data` as the collection you are parallelizing."
   ]
  },
  {
   "cell_type": "code",
   "execution_count": 4,
   "metadata": {},
   "outputs": [
    {
     "name": "stdout",
     "output_type": "stream",
     "text": [
      "<class 'pyspark.rdd.RDD'>\n"
     ]
    }
   ],
   "source": [
    "rdd = sc.parallelize(data, numSlices=10)\n",
    "print(type(rdd))\n",
    "# <class 'pyspark.rdd.RDD'>"
   ]
  },
  {
   "cell_type": "markdown",
   "metadata": {},
   "source": [
    "Determine how many partitions are being used with this RDD with the `.getNumPartitions()` method."
   ]
  },
  {
   "cell_type": "code",
   "execution_count": 5,
   "metadata": {},
   "outputs": [
    {
     "data": {
      "text/plain": [
       "10"
      ]
     },
     "execution_count": 5,
     "metadata": {},
     "output_type": "execute_result"
    }
   ],
   "source": [
    "rdd.getNumPartitions()\n",
    "# 10"
   ]
  },
  {
   "cell_type": "markdown",
   "metadata": {},
   "source": [
    "### Basic descriptive RDD actions\n",
    "\n",
    "Let's perform some basic operations on our RDD. In the cell below, use the methods:\n",
    "* `count`: returns the total count of items in the RDD \n",
    "* `first`: returns the first item in the RDD\n",
    "* `take`: returns the first `n` items in the RDD\n",
    "* `top`: returns the top `n` items\n",
    "* `collect`: returns everything from your RDD\n",
    "\n",
    "\n",
    "It's important to note that in a big data context, calling the collect method will often take a very long time to execute and should be handled with care!"
   ]
  },
  {
   "cell_type": "code",
   "execution_count": 6,
   "metadata": {
    "scrolled": true
   },
   "outputs": [
    {
     "data": {
      "text/plain": [
       "1000"
      ]
     },
     "execution_count": 6,
     "metadata": {},
     "output_type": "execute_result"
    }
   ],
   "source": [
    "# count\n",
    "rdd.count()"
   ]
  },
  {
   "cell_type": "code",
   "execution_count": 7,
   "metadata": {},
   "outputs": [
    {
     "data": {
      "text/plain": [
       "1"
      ]
     },
     "execution_count": 7,
     "metadata": {},
     "output_type": "execute_result"
    }
   ],
   "source": [
    "# first\n",
    "rdd.first()"
   ]
  },
  {
   "cell_type": "code",
   "execution_count": 8,
   "metadata": {},
   "outputs": [
    {
     "data": {
      "text/plain": [
       "[1,\n",
       " 2,\n",
       " 3,\n",
       " 4,\n",
       " 5,\n",
       " 6,\n",
       " 7,\n",
       " 8,\n",
       " 9,\n",
       " 10,\n",
       " 11,\n",
       " 12,\n",
       " 13,\n",
       " 14,\n",
       " 15,\n",
       " 16,\n",
       " 17,\n",
       " 18,\n",
       " 19,\n",
       " 20,\n",
       " 21,\n",
       " 22,\n",
       " 23]"
      ]
     },
     "execution_count": 8,
     "metadata": {},
     "output_type": "execute_result"
    }
   ],
   "source": [
    "# take\n",
    "rdd.take(23)"
   ]
  },
  {
   "cell_type": "code",
   "execution_count": 9,
   "metadata": {},
   "outputs": [
    {
     "data": {
      "text/plain": [
       "[1000, 999, 998, 997, 996, 995, 994, 993, 992, 991]"
      ]
     },
     "execution_count": 9,
     "metadata": {},
     "output_type": "execute_result"
    }
   ],
   "source": [
    "# top\n",
    "rdd.top(10)"
   ]
  },
  {
   "cell_type": "code",
   "execution_count": 10,
   "metadata": {
    "scrolled": true
   },
   "outputs": [],
   "source": [
    "# collect\n",
    "# rdd.collect()\n",
    "# this will cause your system to crash with a large dataset. "
   ]
  },
  {
   "cell_type": "markdown",
   "metadata": {},
   "source": [
    "## Map functions\n",
    "\n",
    "Now that you've been working a little bit with RDDs, let's make this a little more interesting. Imagine you're running a hot new e-commerce startup called BuyStuff, and you're trying to track of how much it charges customers from each item sold. In the next cell, we're going to create simulated data by multiplying the values 1-1000 with a random number from 0-1."
   ]
  },
  {
   "cell_type": "code",
   "execution_count": 11,
   "metadata": {},
   "outputs": [
    {
     "data": {
      "text/plain": [
       "array([6.70314498e-01, 1.37543088e+00, 2.65363346e+00, 8.95907760e-02,\n",
       "       9.25328867e-01, 3.08149552e-01, 5.02022643e+00, 3.96024792e+00,\n",
       "       8.14795378e+00, 2.84436645e+00, 2.68848144e-01, 9.94117705e+00,\n",
       "       4.40117773e+00, 6.62123060e+00, 4.24715743e+00, 1.27629472e-01,\n",
       "       1.26147442e+01, 3.77070122e+00, 1.23421083e+01, 5.96934860e+00,\n",
       "       7.21270212e+00, 1.27638994e+01, 7.80602200e+00, 2.39954197e+01,\n",
       "       4.90822468e+00, 1.11642513e+01, 1.85621639e+01, 1.15603472e+00,\n",
       "       1.36703422e+01, 2.09818045e+00, 2.75964071e+01, 1.95139543e+01,\n",
       "       8.92645626e+00, 2.12804346e+01, 2.94638049e+01, 1.45649295e+01,\n",
       "       5.61347268e+00, 3.71646265e+01, 5.57469002e+00, 1.00515095e+01,\n",
       "       3.05089723e+01, 1.06408546e+01, 1.54786637e+01, 3.27552530e+01,\n",
       "       3.12611466e+01, 3.88275517e+00, 2.72614861e+01, 1.79262774e+01,\n",
       "       1.95872078e+01, 4.78743481e+01, 2.45185352e+01, 2.76333326e+01,\n",
       "       1.09959441e+00, 1.79702204e+01, 1.60810595e+01, 1.05577823e+01,\n",
       "       2.53144294e+01, 4.26412353e+01, 5.80734919e+01, 5.28954668e+01,\n",
       "       2.70347576e+01, 3.13707884e+01, 4.85540167e+01, 4.97876317e+01,\n",
       "       5.98176599e+01, 3.88464984e+01, 3.83498931e+01, 5.03978921e+01,\n",
       "       4.46127969e+01, 5.98518673e+01, 1.02344289e+01, 1.31845561e+01,\n",
       "       3.34401954e+01, 2.64097544e+01, 4.87033611e+01, 3.05597224e+01,\n",
       "       7.08702418e+01, 1.63257379e+01, 5.09434662e+01, 2.02174018e+01,\n",
       "       2.33284619e+00, 6.98842290e+01, 3.45486780e+01, 3.12645445e+00,\n",
       "       7.02361033e+01, 2.03355803e+00, 5.18026521e+01, 1.75336087e+01,\n",
       "       3.04352444e+01, 7.70943557e+01, 1.32327336e+01, 1.49253823e+01,\n",
       "       4.00464177e+01, 2.27848111e+01, 7.04899161e+01, 1.91440872e+01,\n",
       "       1.93201990e+01, 7.49405328e+00, 9.22374942e+01, 2.57436330e+01,\n",
       "       9.88633332e+01, 3.78162324e-01, 4.01355768e+01, 1.01781965e+02,\n",
       "       5.88168676e+01, 7.09918135e+01, 9.31312931e+01, 1.02393933e+02,\n",
       "       6.09618324e+01, 6.95789117e+01, 9.46788093e+01, 8.47519378e+01,\n",
       "       7.15614660e+00, 2.59167691e+01, 8.30644610e+01, 9.29583364e+01,\n",
       "       3.90418639e+00, 1.94308056e+01, 1.58642142e+01, 8.67366451e+01,\n",
       "       1.14404063e+02, 5.02370209e+01, 7.74009831e+01, 8.67943122e+01,\n",
       "       7.46701904e+01, 6.80789789e+01, 7.94608090e+01, 8.22647127e+01,\n",
       "       1.05681388e+01, 8.01577133e+01, 5.72113369e+01, 4.30214755e+01,\n",
       "       4.81640405e+01, 7.90387011e+01, 9.74445457e+01, 5.07204740e+01,\n",
       "       1.31623628e+02, 1.17768955e+02, 1.07073445e+01, 1.50506213e+01,\n",
       "       1.14466100e+02, 6.76949159e+01, 1.25107508e+02, 1.28769978e+02,\n",
       "       9.11726073e+01, 2.75063410e+00, 1.29011424e+02, 6.76445451e+01,\n",
       "       1.22194646e+02, 1.10387771e+00, 1.29442821e+02, 5.46921421e+01,\n",
       "       1.18594926e+02, 7.28377287e+01, 1.29533352e+02, 1.02660786e+02,\n",
       "       1.90043769e+01, 4.79998739e+01, 1.03910378e+01, 9.80806898e+01,\n",
       "       5.48420544e+01, 1.10563466e+02, 5.94570409e+01, 1.05111669e+02,\n",
       "       1.11056776e+02, 1.08391650e+02, 4.07678423e+01, 9.45574684e+00,\n",
       "       6.47753556e+01, 5.85171485e+01, 7.06297238e+01, 8.34692600e+01,\n",
       "       1.19799026e+02, 6.55182230e+00, 7.01426223e+01, 2.92951997e+01,\n",
       "       1.69413859e+02, 1.32384189e+02, 1.54748108e+02, 1.56507188e+02,\n",
       "       9.33494528e+01, 6.31587400e+01, 1.68694688e+02, 1.49431239e+01,\n",
       "       3.98422888e+01, 3.11500816e+01, 3.78084830e+01, 1.35202241e+02,\n",
       "       1.32575129e+02, 1.53015006e+02, 4.65644241e+01, 5.94050172e+00,\n",
       "       3.39712775e+01, 1.04042728e+02, 1.66062045e+02, 1.84490206e+02,\n",
       "       1.12523731e+02, 1.54756304e+02, 1.56274925e+02, 5.34480851e+01,\n",
       "       1.70290962e+02, 8.99130826e+01, 1.54512619e+01, 1.35965061e+02,\n",
       "       1.09135074e+02, 1.88219763e+02, 1.05994284e+02, 1.46476124e+02,\n",
       "       8.30477119e+01, 2.80239473e+01, 1.50614519e+02, 3.75109792e+01,\n",
       "       7.75295479e+01, 1.63109229e+02, 1.65007913e+02, 1.90217546e+02,\n",
       "       6.68263357e+01, 1.42157503e+02, 1.72616380e+02, 4.83517578e+01,\n",
       "       1.48331292e+02, 1.58459018e+02, 6.44572521e+01, 2.20400952e+02,\n",
       "       1.20916416e+02, 4.44385898e+01, 1.63257642e+02, 1.29534259e+02,\n",
       "       1.67187526e+02, 7.78716791e+01, 1.11213591e+02, 1.84181647e+02,\n",
       "       1.24826761e+02, 2.22340288e+01, 2.09818926e+02, 2.25721494e+02,\n",
       "       1.99058693e+02, 1.20983069e+02, 2.20600894e+02, 1.71329842e+02,\n",
       "       7.65515974e+01, 8.51230498e+01, 4.34474084e+01, 2.24027774e+02,\n",
       "       2.24944320e+02, 1.33493486e+01, 6.57155168e+01, 2.36981570e+01,\n",
       "       1.67549555e+01, 3.25604516e+01, 1.48804784e+01, 5.05483704e+01,\n",
       "       1.10789277e+02, 2.53926334e+02, 2.12034817e+02, 3.72286119e+01,\n",
       "       3.65449013e+01, 5.36366223e+01, 9.67092455e+01, 5.48147481e+01,\n",
       "       7.99336882e+01, 3.64176903e+01, 1.64076205e+01, 9.09802604e+01,\n",
       "       1.81453744e+02, 2.36723814e+02, 1.18336472e+02, 7.22834672e+01,\n",
       "       4.98906831e+01, 1.46630587e+02, 2.49333602e+02, 5.65057879e+01,\n",
       "       2.57941667e+02, 1.93936496e+02, 3.52708263e+01, 3.17922626e+01,\n",
       "       7.43484871e+01, 6.92980283e+01, 1.22003895e+02, 2.77228221e+02,\n",
       "       6.83146763e+01, 1.09500945e+02, 1.07126744e+02, 5.91012874e+01,\n",
       "       1.07767310e+02, 1.57065793e+02, 2.50929811e+02, 1.35115442e+02,\n",
       "       2.12268180e+02, 2.06208709e+02, 2.88252632e+02, 1.53239870e+01,\n",
       "       1.47490211e+02, 2.66752236e+02, 7.37460872e+01, 2.65151897e+02,\n",
       "       2.53591650e+02, 2.95022684e+02, 8.89614535e+01, 1.84257387e+02,\n",
       "       3.30010066e+01, 3.01419131e+02, 1.65329627e+01, 2.46544338e+02,\n",
       "       1.94628538e+02, 1.00504043e+02, 1.16380122e+02, 4.62774833e+01,\n",
       "       1.58302404e+02, 1.96030457e+02, 2.91220376e+02, 2.15764218e+02,\n",
       "       2.32796672e+02, 9.90330703e+01, 2.61739289e+01, 2.22688308e+02,\n",
       "       1.78301919e+02, 4.27416493e+00, 1.88751186e+02, 2.17983152e+02,\n",
       "       1.19784082e+02, 1.74689245e+02, 9.04686622e+01, 1.50934276e+02,\n",
       "       2.88971189e+02, 2.01246781e+02, 3.10126161e+02, 1.08944073e+02,\n",
       "       2.18307371e+02, 3.27279295e+02, 2.36425060e+02, 2.89373225e+02,\n",
       "       6.71560986e+01, 2.77826779e+01, 2.48813633e+02, 1.46523715e+02,\n",
       "       1.28099575e+02, 1.14348312e+02, 8.00553312e+00, 1.45450152e+02,\n",
       "       5.33291557e+01, 2.01473090e+02, 3.09078494e+02, 3.10100649e+02,\n",
       "       2.74392759e+01, 1.67334831e+01, 3.12537395e+02, 2.10998563e+02,\n",
       "       3.04918126e+02, 4.15853996e+01, 1.92374481e+02, 5.25907137e+01,\n",
       "       1.23116440e+02, 2.74990897e+02, 2.38231968e+02, 1.20055977e+02,\n",
       "       1.41745962e+02, 2.39835628e+02, 1.57875778e+02, 3.58802495e+02,\n",
       "       2.19576060e+02, 1.28022714e+02, 2.57628426e+02, 4.80350696e+01,\n",
       "       2.99437534e+02, 3.43272833e+02, 3.63370530e+01, 1.34999664e+02,\n",
       "       1.37173434e+02, 9.75234150e+01, 6.78326223e+01, 8.45578401e+01,\n",
       "       2.65039149e+02, 6.86145346e+01, 3.05506376e+02, 2.95345199e+02,\n",
       "       3.13057551e+02, 3.02305074e+02, 1.39876081e+02, 1.59804236e+02,\n",
       "       1.09093149e+02, 2.55939775e+02, 1.08480980e+02, 2.99863198e+02,\n",
       "       3.10247249e+02, 1.16050066e+02, 2.07071928e+02, 1.75792030e+01,\n",
       "       1.92486990e+02, 3.52467134e+02, 2.54600288e+02, 4.73825632e+01,\n",
       "       1.03289799e+02, 2.64863080e+00, 3.79473243e+01, 1.41095655e+01,\n",
       "       1.96231840e+02, 3.24275254e+02, 2.80867148e+02, 3.22222515e+02,\n",
       "       3.05405502e+01, 2.35446611e+02, 3.46361507e+02, 2.18209988e+02,\n",
       "       8.31539835e-01, 1.62989838e+01, 2.30661771e+02, 3.80235291e+02,\n",
       "       3.40754689e+02, 3.95195417e+02, 1.78923050e+02, 3.99763444e+02,\n",
       "       3.57106460e+02, 3.26841973e+02, 1.81710530e+02, 4.15744335e+02,\n",
       "       1.61205129e+02, 3.37512240e+01, 1.90694279e+02, 1.80374436e+01,\n",
       "       2.59185312e+02, 2.33662208e+02, 3.40483723e+02, 2.16629061e+02,\n",
       "       7.93697093e+01, 3.08876662e+02, 1.80802272e+02, 2.39802608e+02,\n",
       "       3.04353263e+02, 1.59341659e+02, 1.60215414e+02, 9.08219857e+01,\n",
       "       3.75409875e+02, 9.00789092e+01, 2.02164691e+02, 2.51155260e+02,\n",
       "       1.67032165e+02, 2.55172432e+02, 1.60408986e+01, 3.78307513e+02,\n",
       "       4.09532979e+02, 3.29437973e+01, 7.45039819e+01, 2.75391397e+02,\n",
       "       3.27183727e+02, 2.74250892e+02, 1.15767253e+01, 3.83828970e+00,\n",
       "       2.23421538e+02, 2.87695556e+02, 7.52716629e+01, 2.55738341e+02,\n",
       "       3.43524612e+02, 4.00983725e+02, 5.79394003e+01, 4.26248321e+01,\n",
       "       4.52247039e+02, 3.02407650e+01, 3.53683774e+02, 8.72217963e+01,\n",
       "       2.03542547e+02, 4.27341834e+02, 1.05250502e+02, 2.10152206e+02,\n",
       "       3.95813183e+02, 3.68188269e+02, 3.20440548e+02, 1.30281882e+02,\n",
       "       9.07571263e+01, 7.38136404e+01, 4.64160679e+02, 1.05731691e+02,\n",
       "       4.33969063e+02, 2.84899221e+02, 2.52749764e+02, 8.56292966e+01,\n",
       "       4.09873291e+01, 3.05005942e+02, 9.61827853e+01, 4.47065958e+02,\n",
       "       8.97616062e+01, 1.27391060e+02, 2.76846177e+02, 2.99312137e+02,\n",
       "       3.57799042e+02, 1.29721189e+02, 2.94486926e+02, 2.10704540e+02,\n",
       "       4.56898874e+02, 3.16371444e+02, 4.59509091e+02, 1.69400390e+02,\n",
       "       2.29428121e+02, 1.81369335e+02, 3.58600292e+02, 1.23963131e+02,\n",
       "       2.32126911e+02, 1.98060164e+02, 2.61479196e+02, 2.61381311e+02,\n",
       "       3.46827997e+02, 4.90882871e+02, 1.71239223e+02, 6.41668814e+01,\n",
       "       3.13330827e+02, 2.49469395e+02, 1.55245413e+02, 1.05034664e+02,\n",
       "       2.65730241e+02, 3.25238817e+02, 3.90934052e+02, 1.62488770e+02,\n",
       "       1.35307900e+01, 3.46899847e+02, 4.92315627e+02, 5.03639593e+02,\n",
       "       2.13745168e+02, 1.38872537e+02, 3.80248877e+02, 3.39579595e+02,\n",
       "       3.92744613e+02, 1.99825807e+01, 4.08551701e+02, 2.73652517e+02,\n",
       "       1.35143920e+02, 1.52831937e+02, 1.55569709e+02, 4.49776912e+02,\n",
       "       2.76592712e+02, 3.63515000e+02, 4.67469417e+02, 4.99590796e+02,\n",
       "       5.26837352e+02, 4.00442109e+02, 5.14854960e+02, 5.16141249e+02,\n",
       "       4.12440684e+02, 2.01270124e+02, 5.29384332e+02, 5.02754579e+02,\n",
       "       1.84870196e+01, 5.28853293e+02, 5.17845780e+02, 1.01426974e+02,\n",
       "       4.18991502e+02, 6.85688662e+01, 1.22615518e+02, 2.45435229e+01,\n",
       "       1.24123459e+02, 5.35315316e+02, 2.42624073e+02, 5.50510557e+02,\n",
       "       1.12260269e+02, 1.68988705e+02, 3.48268056e+02, 4.83518956e+02,\n",
       "       4.37881635e+02, 1.83368324e-01, 4.19918225e+02, 4.56272286e+02,\n",
       "       1.47321542e+02, 3.20797572e+02, 3.44676205e+02, 4.75866163e+02,\n",
       "       3.02700375e+02, 5.40254298e+02, 5.47767101e+02, 3.50973014e+02,\n",
       "       2.79031005e+02, 2.71165734e+02, 4.26239469e+02, 3.06183938e+02,\n",
       "       3.65654941e+02, 3.66876424e+02, 4.28933211e+02, 5.56653410e+02,\n",
       "       3.76506600e+02, 4.42362898e+02, 5.40823761e+01, 2.14634405e+02,\n",
       "       8.18065122e+01, 4.48691086e+02, 9.67248711e+00, 1.20268042e+02,\n",
       "       1.24025953e+02, 3.35181690e+02, 2.95741443e+02, 4.26351181e+02,\n",
       "       4.66371600e+02, 1.13094607e+02, 2.02035655e+02, 4.74729907e+02,\n",
       "       1.39970938e+02, 5.90424157e+02, 5.91353989e+02, 5.79626368e+02,\n",
       "       8.95719156e+01, 3.28625268e+02, 5.19491229e+02, 1.08203327e+02,\n",
       "       5.81930470e+02, 4.99620390e+02, 4.59437464e+02, 2.69712333e+02,\n",
       "       2.63439917e+02, 2.69099132e+02, 4.49686580e+02, 5.00171814e+01,\n",
       "       3.96250273e+02, 4.34767456e+01, 2.07821543e+01, 4.12532132e+02,\n",
       "       2.33128916e+00, 5.57412920e+02, 2.15611619e+02, 1.69489025e+02,\n",
       "       4.18064573e+02, 3.27944809e+02, 4.59018856e+02, 5.94652833e+02,\n",
       "       2.69438945e+02, 2.62569262e+02, 2.89679267e+02, 5.00128535e+01,\n",
       "       1.49968528e+01, 4.54112979e+02, 1.13218317e+02, 5.05206959e+02,\n",
       "       9.22556763e+01, 1.44882527e+02, 4.79128527e+02, 4.08460448e+02,\n",
       "       6.23748620e+02, 5.07095689e+02, 3.95559400e+02, 2.69839726e+02,\n",
       "       1.19652023e+02, 6.19897147e+01, 3.63683734e+02, 4.83672712e+02,\n",
       "       4.52778231e+01, 2.13937374e+02, 9.80116991e+01, 3.45644221e+02,\n",
       "       1.54519689e+02, 1.98583345e+02, 5.98801537e+02, 4.22339162e+02,\n",
       "       5.04729593e+02, 1.98027586e+02, 4.33201426e+02, 5.69097710e+02,\n",
       "       6.29204358e+02, 6.04686030e+01, 3.00861289e+02, 2.47552523e+02,\n",
       "       2.39318513e+02, 5.98633478e+02, 2.63999897e+02, 1.05061907e+02,\n",
       "       3.74373182e+02, 3.64903276e+02, 6.59597690e+02, 4.32013590e+02,\n",
       "       3.33204879e+02, 8.22239540e+01, 2.64310647e+02, 1.62261938e+02,\n",
       "       3.70189301e+02, 4.38679238e+02, 3.99718068e+02, 2.15481248e+02,\n",
       "       4.09640766e+02, 1.88198959e+02, 6.21325499e+02, 1.30326409e+02,\n",
       "       6.34194232e+02, 2.97831783e+01, 5.50689578e+02, 4.57947271e+02,\n",
       "       1.47017404e+02, 3.98428279e+02, 6.77083331e+02, 6.52860231e+02,\n",
       "       6.81213008e+02, 6.78631213e+01, 3.41112690e+02, 3.70452108e+01,\n",
       "       2.20606105e+02, 3.63872903e+02, 2.92028151e+02, 1.05100147e+02,\n",
       "       5.09677418e+02, 2.88004018e+02, 2.39750287e+02, 9.57940694e+01,\n",
       "       2.20345864e+02, 5.83259445e+02, 6.10637327e+02, 7.28851769e+00,\n",
       "       2.67886964e+02, 2.78298912e+02, 4.63548327e+02, 1.23557052e+02,\n",
       "       1.30191065e+01, 5.23149621e+01, 5.75099882e+02, 1.04327609e+02,\n",
       "       4.75159752e+01, 6.13373850e+02, 5.56601903e+02, 4.30301632e+02,\n",
       "       4.04801438e+01, 2.63167301e+02, 5.80841262e+02, 4.30378061e+02,\n",
       "       5.51525082e+01, 5.77767362e+02, 9.35163944e+01, 4.34189645e+02,\n",
       "       4.45216554e+02, 3.25702858e+02, 2.54843364e+02, 4.59679534e+02,\n",
       "       5.47895616e+02, 2.57083367e+02, 1.74289618e+02, 2.53405433e+01,\n",
       "       4.80937872e+02, 4.68489499e+02, 8.77489745e+01, 2.28227659e+02,\n",
       "       4.47534931e+02, 5.50990878e+01, 6.39743859e+02, 4.43454657e+02,\n",
       "       4.46497304e+01, 5.11102637e+02, 2.07635778e+01, 6.54762724e+01,\n",
       "       3.48999478e+02, 5.43717311e+02, 2.01260878e+02, 6.11690400e+02,\n",
       "       6.47302183e+02, 5.14706534e+02, 2.98608537e+02, 4.51199435e+02,\n",
       "       5.26824413e+02, 6.30426232e+02, 5.56955648e+02, 5.00197113e+01,\n",
       "       4.62193912e+02, 3.16638236e+02, 1.22304250e+02, 6.49706898e+02,\n",
       "       7.06566607e+02, 4.12523733e+02, 1.72623700e+02, 6.90148340e+02,\n",
       "       2.22515073e+02, 7.06676081e+02, 1.71304902e+02, 2.27707665e+02,\n",
       "       7.57921558e+01, 2.80284802e+02, 6.16474562e+02, 3.77781694e+02,\n",
       "       5.68151080e+02, 6.08010597e+02, 6.36460610e+02, 2.89488432e+02,\n",
       "       4.48811863e+02, 5.88767671e+02, 7.50180632e+02, 4.64649249e+02,\n",
       "       3.46845499e+02, 4.85642828e+02, 6.47532080e+01, 7.20389056e+02,\n",
       "       5.03384172e+02, 2.12869578e+02, 5.00440847e+02, 3.55144221e+02,\n",
       "       4.72470556e+02, 6.67010468e+02, 4.05800125e+02, 4.66909027e+02,\n",
       "       2.26293824e+02, 5.38184292e+02, 3.30026909e+02, 9.43096274e+01,\n",
       "       5.10113735e+01, 4.22812707e+02, 3.61536537e+02, 1.40295785e+02,\n",
       "       7.19756879e+02, 9.66657538e+01, 1.26515285e+01, 2.40063878e+02,\n",
       "       6.10214535e+02, 4.18806539e+02, 6.50313587e+02, 5.68937429e+02,\n",
       "       4.35739318e+01, 2.52549270e+02, 7.56594770e+02, 6.46745327e+02,\n",
       "       5.44314123e+02, 4.33278741e+01, 7.02301399e+02, 1.59624722e+02,\n",
       "       1.19690036e+00, 3.20409702e+02, 1.02022587e+02, 7.94239829e+02,\n",
       "       7.43774233e+02, 2.95472000e+02, 5.08914477e+02, 1.43935286e+02,\n",
       "       1.26006911e+02, 5.27746739e+02, 3.12816331e+02, 9.15395111e+01,\n",
       "       3.59235565e+02, 7.79435482e+02, 5.55085675e+02, 4.52689472e+02,\n",
       "       5.86945405e+02, 5.30149578e+02, 3.43083887e+02, 5.67597101e+02,\n",
       "       5.59453392e+02, 5.83315189e+02, 3.16293863e+02, 4.53538306e+02,\n",
       "       7.38358959e+02, 1.69123717e+02, 2.31120926e+02, 1.05304064e+02,\n",
       "       3.15143991e+01, 6.39968543e+02, 6.41924006e+02, 2.76498227e+02,\n",
       "       7.69772180e+02, 6.62096974e+02, 2.82436584e+02, 1.57569036e+02,\n",
       "       5.29842102e+02, 6.48555388e+02, 3.86978763e+02, 3.23540466e+02,\n",
       "       5.81000207e+02, 6.80657079e+02, 2.70130379e+01, 7.24719245e+02,\n",
       "       7.94114903e+02, 1.47901183e+02, 3.09751953e+02, 4.44591085e+02,\n",
       "       4.66261721e+02, 7.04486435e+02, 1.03356225e+02, 8.24331871e+01,\n",
       "       3.98476644e+02, 1.13094796e+02, 7.33497536e+02, 5.43772869e+02,\n",
       "       1.10845591e+02, 5.36875558e+02, 4.22794616e+02, 4.63994973e+02,\n",
       "       2.74846679e+02, 4.28651735e+02, 4.65614756e+02, 1.43588362e+02,\n",
       "       5.25178539e+02, 3.02668126e+02, 5.69375015e+01, 3.36767272e+02,\n",
       "       2.59951324e+02, 4.79069465e+02, 1.12644081e+02, 6.21865059e+02,\n",
       "       5.00030731e+01, 1.59954742e+02, 3.80311043e+02, 8.62797785e+02,\n",
       "       4.11338658e+02, 3.81458804e+02, 7.10249375e+02, 8.32926129e+02,\n",
       "       6.21895117e+02, 3.71863540e+02, 3.66111054e+02, 8.17239453e+02,\n",
       "       4.40972677e+02, 3.11208709e+02, 5.40055801e+02, 4.34910823e+02,\n",
       "       3.57740596e+02, 2.83826540e+02, 4.78590404e+02, 5.54410116e+02,\n",
       "       3.84130284e+02, 6.36423466e+02, 2.91031292e+02, 6.49474522e+02,\n",
       "       3.49411166e+01, 3.76906322e+02, 4.63165833e+02, 1.74341957e+02,\n",
       "       7.93184913e+02, 2.40369656e+01, 4.11451140e+02, 7.30398576e+02,\n",
       "       2.57355913e+02, 6.34499364e+02, 3.51161186e+02, 6.70712760e+02,\n",
       "       5.89563055e+02, 5.21566532e+02, 8.04562367e+02, 2.65211281e+02,\n",
       "       4.57990080e+02, 2.36289347e+02, 4.38052609e+02, 8.03417763e+01,\n",
       "       7.70539278e+02, 4.04389853e+02, 8.46376431e+02, 8.84479890e+02,\n",
       "       5.74851883e+02, 3.94925396e+02, 4.04284865e+02, 1.12612928e+02,\n",
       "       3.39978801e+02, 4.78998320e+02, 8.75275090e+02, 5.99757452e+02,\n",
       "       5.85814155e+02, 5.74264076e+02, 5.78725855e+02, 7.99386427e+02,\n",
       "       1.82959665e+02, 6.06644303e+02, 5.87670127e+02, 8.39630036e+02,\n",
       "       5.40278560e+02, 7.08492514e+02, 7.16170975e+02, 1.80571562e+02,\n",
       "       3.07713129e+02, 1.34975808e+02, 5.53817338e+02, 9.40446148e+02,\n",
       "       3.01452866e+02, 8.98546138e+02, 8.39918420e+00, 6.89244890e+02,\n",
       "       1.01971687e+02, 4.35047910e+02, 8.58790539e+01, 2.86571493e+02,\n",
       "       8.92430600e+02, 4.60689582e+02, 7.39697833e+02, 4.48144203e+02,\n",
       "       4.34067463e+02, 2.10480258e+02, 1.14853361e+02, 5.39222910e+02,\n",
       "       4.38162259e+02, 1.73684220e+02, 2.15577973e+02, 2.06347321e+02,\n",
       "       8.89613973e+02, 6.98143638e+02, 2.56928323e+02, 6.46909969e+02,\n",
       "       8.55278580e+02, 8.96248320e+02, 6.17392759e+02, 3.51031305e+02,\n",
       "       1.09418560e+02, 8.33607878e+02, 4.26618579e+02, 2.31330400e+02,\n",
       "       2.28403714e+02, 1.12521696e+02, 7.36522463e+02, 7.81357504e+01,\n",
       "       5.31014034e+02, 1.52632356e+02, 1.60710444e+02, 9.39103304e+02,\n",
       "       2.63590346e+02, 4.30929893e+02, 8.34819345e+02, 4.35396681e+02])"
      ]
     },
     "execution_count": 11,
     "metadata": {},
     "output_type": "execute_result"
    }
   ],
   "source": [
    "import random\n",
    "import numpy as np\n",
    "\n",
    "nums = np.array(range(1, 1001))\n",
    "sales_figures = nums * np.random.rand(1000)\n",
    "sales_figures"
   ]
  },
  {
   "cell_type": "markdown",
   "metadata": {},
   "source": [
    "We now have sales prices for 1000 items currently for sale at BuyStuff. Now create an RDD called `price_items` using the newly created data with 10 slices. After you create it, use one of the basic actions to see what's in the RDD."
   ]
  },
  {
   "cell_type": "code",
   "execution_count": 12,
   "metadata": {},
   "outputs": [
    {
     "data": {
      "text/plain": [
       "[0.6703144979949379,\n",
       " 1.3754308768027401,\n",
       " 2.6536334578040552,\n",
       " 0.08959077600311627]"
      ]
     },
     "execution_count": 12,
     "metadata": {},
     "output_type": "execute_result"
    }
   ],
   "source": [
    "price_items = sc.parallelize(sales_figures, numSlices=10)\n",
    "price_items.take(4)"
   ]
  },
  {
   "cell_type": "markdown",
   "metadata": {},
   "source": [
    "Now let's perform some operations on this simple dataset. To begin with, create a function that will take into account how much money BuyStuff will receive after sales tax has been applied (assume a sales tax of 8%). To make this happen, create a function called `sales_tax()` that returns the amount of money our company will receive after the sales tax has been applied. The function will have this parameter:\n",
    "\n",
    "* `item`: (float) number to be multiplied by the sales tax.\n",
    "\n",
    "\n",
    "Apply that function to the rdd by using the `.map()` method and assign it to a variable `renenue_minus_tax`"
   ]
  },
  {
   "cell_type": "code",
   "execution_count": 13,
   "metadata": {},
   "outputs": [],
   "source": [
    "def sales_tax(num):\n",
    "    return num * 0.92\n",
    "\n",
    "revenue_minus_tax = price_items.map(sales_tax)"
   ]
  },
  {
   "cell_type": "markdown",
   "metadata": {},
   "source": [
    "Remember, Spark has __lazy evaluation__, which means that the `sales_tax()` function is a transformer that is not executed until you call an action. Use one of the collection methods to execute the transformer now a part of the RDD and observe the contents of the `revenue_minus_tax` rdd."
   ]
  },
  {
   "cell_type": "code",
   "execution_count": 14,
   "metadata": {
    "scrolled": true
   },
   "outputs": [
    {
     "data": {
      "text/plain": [
       "[0.6166893381553429,\n",
       " 1.265396406658521,\n",
       " 2.441342781179731,\n",
       " 0.08242351392286697,\n",
       " 0.8513025573468408,\n",
       " 0.28349758798660857,\n",
       " 4.618608317801708,\n",
       " 3.6434280860817996,\n",
       " 7.4961174797577375,\n",
       " 2.6168171318104756]"
      ]
     },
     "execution_count": 14,
     "metadata": {},
     "output_type": "execute_result"
    }
   ],
   "source": [
    "# perform action to retrieve rdd values\n",
    "revenue_minus_tax.take(10)"
   ]
  },
  {
   "cell_type": "markdown",
   "metadata": {},
   "source": [
    "### Lambda Functions\n",
    "\n",
    "Note that you can also use lambda functions if you want to quickly perform simple operations on data without creating a function. Let's assume that BuyStuff has also decided to offer a 10% discount on all of their items on the pre-tax amounts of each item. Use a lambda function within a `.map()` method to apply the additional 10% loss in revenue for BuyStuff and assign the transformed RDD to a new RDD called `discounted`."
   ]
  },
  {
   "cell_type": "code",
   "execution_count": 15,
   "metadata": {},
   "outputs": [],
   "source": [
    "discounted = revenue_minus_tax.map(lambda x: x*0.9)"
   ]
  },
  {
   "cell_type": "code",
   "execution_count": 16,
   "metadata": {
    "scrolled": true
   },
   "outputs": [
    {
     "data": {
      "text/plain": [
       "[0.5550204043398086,\n",
       " 1.138856765992669,\n",
       " 2.197208503061758,\n",
       " 0.07418116253058027,\n",
       " 0.7661723016121568,\n",
       " 0.2551478291879477,\n",
       " 4.156747486021537,\n",
       " 3.27908527747362,\n",
       " 6.746505731781964,\n",
       " 2.355135418629428]"
      ]
     },
     "execution_count": 16,
     "metadata": {},
     "output_type": "execute_result"
    }
   ],
   "source": [
    "discounted.take(10)"
   ]
  },
  {
   "cell_type": "markdown",
   "metadata": {},
   "source": [
    "## Chaining Methods\n",
    "\n",
    "You are also able to chain methods together with Spark. In one line, remove the tax and discount from the revenue of BuyStuff and use a collection method to see the 15 costliest items."
   ]
  },
  {
   "cell_type": "code",
   "execution_count": 17,
   "metadata": {
    "scrolled": true
   },
   "outputs": [
    {
     "data": {
      "text/plain": [
       "[778.689410927506,\n",
       " 777.577535462069,\n",
       " 743.9962022340884,\n",
       " 742.0936093016128,\n",
       " 738.9325366463918,\n",
       " 736.6003695018046,\n",
       " 732.3493487533432,\n",
       " 724.7277748745835,\n",
       " 714.3965663720161,\n",
       " 708.170664142305,\n",
       " 700.7996849398136,\n",
       " 695.2136696895966,\n",
       " 691.2304179044888,\n",
       " 690.2273228312489,\n",
       " 689.6628348146451]"
      ]
     },
     "execution_count": 17,
     "metadata": {},
     "output_type": "execute_result"
    }
   ],
   "source": [
    "price_items.map(sales_tax).map(lambda x: x * 0.9).top(15)"
   ]
  },
  {
   "cell_type": "markdown",
   "metadata": {},
   "source": [
    "## RDD Lineage\n",
    "\n",
    "\n",
    "We are able to see the full lineage of all the operations that have been performed on an RDD by using the `RDD.toDebugString()` method. As your transformations become more complex, you are encouraged to call this method to get a better understanding of the dependencies between RDDs. Try calling it on the `discounted` RDD to see what RDDs it is dependent on."
   ]
  },
  {
   "cell_type": "code",
   "execution_count": 18,
   "metadata": {},
   "outputs": [
    {
     "data": {
      "text/plain": [
       "b'(10) PythonRDD[10] at RDD at PythonRDD.scala:53 []\\n |   ParallelCollectionRDD[5] at readRDDFromFile at PythonRDD.scala:262 []'"
      ]
     },
     "execution_count": 18,
     "metadata": {},
     "output_type": "execute_result"
    }
   ],
   "source": [
    "discounted.toDebugString()"
   ]
  },
  {
   "cell_type": "markdown",
   "metadata": {},
   "source": [
    "### Map vs. Flatmap\n",
    "\n",
    "Depending on how you want your data to be outputted, you might want to use `.flatMap()` rather than a simple `.map()`. Let's take a look at how it performs operations versus the standard map. Let's say we wanted to maintain the original amount BuyStuff receives for each item as well as the new amount after the tax and discount are applied. Create a map function that will return a tuple with (original price, post-discount price)."
   ]
  },
  {
   "cell_type": "code",
   "execution_count": 19,
   "metadata": {},
   "outputs": [
    {
     "name": "stdout",
     "output_type": "stream",
     "text": [
      "1000\n",
      "[(0.6703144979949379, 0.5550204043398086), (1.3754308768027401, 1.138856765992669), (2.6536334578040552, 2.197208503061758), (0.08959077600311627, 0.07418116253058027), (0.9253288666813486, 0.7661723016121568), (0.30814955215935713, 0.2551478291879477), (5.0202264323931605, 4.156747486021537), (3.9602479196541296, 3.27908527747362), (8.147953782345366, 6.746505731781964), (2.8443664476200823, 2.355135418629428)]\n"
     ]
    }
   ],
   "source": [
    "mapped = price_items.map(lambda x: (x, x*0.92 *0.9))\n",
    "print(mapped.count())\n",
    "print(mapped.take(10))"
   ]
  },
  {
   "cell_type": "markdown",
   "metadata": {},
   "source": [
    "Note that we have 1000 tuples created to our specification. Let's take a look at how `.flatMap()` differs in its implementation. Use the `.flatMap()` method with the same function you created above."
   ]
  },
  {
   "cell_type": "code",
   "execution_count": 21,
   "metadata": {},
   "outputs": [
    {
     "name": "stdout",
     "output_type": "stream",
     "text": [
      "2000\n",
      "[0.6703144979949379, 0.5550204043398086, 1.3754308768027401, 1.138856765992669, 2.6536334578040552, 2.197208503061758, 0.08959077600311627, 0.07418116253058027, 0.9253288666813486, 0.7661723016121568]\n"
     ]
    }
   ],
   "source": [
    "flat_mapped = price_items.flatMap(lambda x: (x, x*0.92 *0.9))\n",
    "print(flat_mapped.count())\n",
    "print(flat_mapped.take(10))"
   ]
  },
  {
   "cell_type": "markdown",
   "metadata": {},
   "source": [
    "Rather than being represented by tuples, all of the  values are now on the same level. When we are trying to combine different items together, it is sometimes necessary to use `.flatMap()` rather than `.map()` in order to properly reduce to our specifications. This is not one of those instances, but in the upcoming lab, you just might have to use it."
   ]
  },
  {
   "cell_type": "markdown",
   "metadata": {},
   "source": [
    "## Filter\n",
    "After meeting with some external consultants, BuyStuff has determined that its business will be more profitable if it focuses on higher ticket items. Now, use the `.filter()` method to select items that bring in more than $300 after tax and discount have been removed. A filter method is a specialized form of a map function that only returns the items that match a certain criterion. In the cell below:\n",
    "* use a lambda function within a `.filter()` method to meet the consultant's suggestion's specifications. set `RDD = selected_items`\n",
    "* calculate the total number of items remaining in BuyStuff's inventory"
   ]
  },
  {
   "cell_type": "code",
   "execution_count": 22,
   "metadata": {},
   "outputs": [
    {
     "data": {
      "text/plain": [
       "283"
      ]
     },
     "execution_count": 22,
     "metadata": {},
     "output_type": "execute_result"
    }
   ],
   "source": [
    "# use the filter function\n",
    "selected_items = discounted.filter(lambda x: x > 300)\n",
    "\n",
    "# calculate total remaining in inventory \n",
    "selected_items.count()"
   ]
  },
  {
   "cell_type": "markdown",
   "metadata": {},
   "source": [
    "## Reduce\n",
    "\n",
    "Reduce functions are where you are in some way combing all of the variables that you have mapped out. Here is an example of how a reduce function works when the task is to sum all values:\n",
    "\n",
    "<img src = \"./images/reduce_function.png\" width = \"600\">  \n",
    "\n",
    "\n",
    "As you can see, the operation is performed within each partition first, after which, the results of the computations in each partition are combined to come up with one final answer.  \n",
    "\n",
    "Now it's time to figure out how much money BuyStuff would make from selling one of all of its items after they've reduced their inventory. Use the `.reduce()` method with a lambda function to add up all of the values in the RDD. Your lambda function should have two variables. "
   ]
  },
  {
   "cell_type": "code",
   "execution_count": 23,
   "metadata": {},
   "outputs": [
    {
     "data": {
      "text/plain": [
       "127349.82771930752"
      ]
     },
     "execution_count": 23,
     "metadata": {},
     "output_type": "execute_result"
    }
   ],
   "source": [
    "selected_items.reduce(lambda x,y: x + y)"
   ]
  },
  {
   "cell_type": "markdown",
   "metadata": {},
   "source": [
    "The time has come for BuyStuff to open up shop and start selling its goods. It only has one of each item, but it's allowing 50 lucky users to buy as many items as they want while they remain in stock. Within seconds, BuyStuff is sold out. Below, you'll find the sales data in an RDD with tuples of (user, item bought)."
   ]
  },
  {
   "cell_type": "code",
   "execution_count": 24,
   "metadata": {},
   "outputs": [
    {
     "data": {
      "text/plain": [
       "[(3, 314.834820809459),\n",
       " (15, 327.22180553250547),\n",
       " (26, 331.00413163189313),\n",
       " (9, 344.23630948276025),\n",
       " (24, 310.839376092282),\n",
       " (28, 313.23862115907656),\n",
       " (8, 339.09330661000547)]"
      ]
     },
     "execution_count": 24,
     "metadata": {},
     "output_type": "execute_result"
    }
   ],
   "source": [
    "import random\n",
    "random.seed(42)\n",
    "# generating simulated users that have bought each item\n",
    "sales_data = selected_items.map(lambda x: (random.randint(1, 50), x))\n",
    "\n",
    "sales_data.take(7)"
   ]
  },
  {
   "cell_type": "markdown",
   "metadata": {},
   "source": [
    "It's time to determine some basic statistics about BuyStuff users.\n",
    "\n",
    "Let's start off by creating an RDD that determines how much each user spent in total.\n",
    "To do this we can use a method called `.reduceByKey()` to perform reducing operations while grouping by keys. After you have calculated the total, use the `.sortBy()` method on the RDD to rank the users from the highest spending to the least spending. "
   ]
  },
  {
   "cell_type": "code",
   "execution_count": 25,
   "metadata": {},
   "outputs": [
    {
     "data": {
      "text/plain": [
       "[(10, 1864.729125805509),\n",
       " (20, 2408.808306993332),\n",
       " (40, 394.0171825648616),\n",
       " (30, 2333.4039584798543),\n",
       " (50, 2883.035363629682),\n",
       " (41, 3703.6124798957258),\n",
       " (31, 2560.089834584736),\n",
       " (11, 2065.1300342351387),\n",
       " (21, 1385.0189500184517),\n",
       " (1, 5235.8995248680585)]"
      ]
     },
     "execution_count": 25,
     "metadata": {},
     "output_type": "execute_result"
    }
   ],
   "source": [
    "# calculate how much each user spent\n",
    "total_spent = sales_data.reduceByKey(lambda x, y: x + y)\n",
    "total_spent.take(10)"
   ]
  },
  {
   "cell_type": "code",
   "execution_count": 26,
   "metadata": {},
   "outputs": [
    {
     "data": {
      "text/plain": [
       "[(1, 5235.8995248680585),\n",
       " (48, 4545.616517861742),\n",
       " (27, 4037.815495631615),\n",
       " (49, 3959.2754223561024),\n",
       " (42, 3954.1190362949915),\n",
       " (32, 3830.398507752494),\n",
       " (25, 3806.527636665618),\n",
       " (41, 3703.6124798957258),\n",
       " (35, 3559.914599945754),\n",
       " (22, 3479.984847364666),\n",
       " (26, 3411.2566071952338),\n",
       " (39, 3298.26742492163),\n",
       " (7, 3231.0113482906063),\n",
       " (2, 3165.5881885469944),\n",
       " (6, 3095.1866586176766),\n",
       " (17, 2974.9144415737287),\n",
       " (36, 2914.9621815851137),\n",
       " (37, 2901.8761383263386),\n",
       " (50, 2883.035363629682),\n",
       " (29, 2875.1003089062847),\n",
       " (16, 2786.809989716252),\n",
       " (45, 2718.081812247533),\n",
       " (24, 2639.266802729663),\n",
       " (28, 2569.6769562476165),\n",
       " (31, 2560.089834584736),\n",
       " (4, 2488.7145845685905),\n",
       " (8, 2465.181857873372),\n",
       " (20, 2408.808306993332),\n",
       " (47, 2373.8006324538337),\n",
       " (30, 2333.4039584798543),\n",
       " (15, 2275.012126348074),\n",
       " (33, 2173.190856096218),\n",
       " (43, 2128.736631726347),\n",
       " (5, 2125.1251335088136),\n",
       " (11, 2065.1300342351387),\n",
       " (3, 1969.65303182185),\n",
       " (13, 1884.0823421484201),\n",
       " (10, 1864.729125805509),\n",
       " (38, 1813.6708780406718),\n",
       " (12, 1680.8666964904376),\n",
       " (34, 1524.9882250332635),\n",
       " (46, 1490.4672713067584),\n",
       " (19, 1408.0921233536337),\n",
       " (21, 1385.0189500184517),\n",
       " (18, 1341.8178975973683),\n",
       " (44, 1165.5521445415031),\n",
       " (14, 914.0817913281462),\n",
       " (9, 787.9072511259308),\n",
       " (23, 749.4905600913055),\n",
       " (40, 394.0171825648616)]"
      ]
     },
     "execution_count": 26,
     "metadata": {},
     "output_type": "execute_result"
    }
   ],
   "source": [
    "# sort the users from highest to lowest spenders\n",
    "total_spent.sortBy(lambda x: x[1], ascending = False).collect()"
   ]
  },
  {
   "cell_type": "markdown",
   "metadata": {},
   "source": [
    "Next, let's determine how many items were bought per user. This can be solved in one line using an RDD method. After you've counted the total number of items bought per person, sort the users from most number of items bought to least number of items. Time to start a customer loyalty program!"
   ]
  },
  {
   "cell_type": "code",
   "execution_count": 27,
   "metadata": {},
   "outputs": [
    {
     "data": {
      "text/plain": [
       "[(7, 10),\n",
       " (26, 10),\n",
       " (11, 9),\n",
       " (21, 8),\n",
       " (46, 8),\n",
       " (34, 8),\n",
       " (31, 7),\n",
       " (9, 7),\n",
       " (6, 7),\n",
       " (48, 7),\n",
       " (27, 7),\n",
       " (17, 7),\n",
       " (22, 7),\n",
       " (40, 7),\n",
       " (4, 7),\n",
       " (14, 7),\n",
       " (8, 7),\n",
       " (23, 7),\n",
       " (49, 6),\n",
       " (28, 6),\n",
       " (18, 6),\n",
       " (47, 6),\n",
       " (33, 6),\n",
       " (35, 6),\n",
       " (39, 6),\n",
       " (44, 6),\n",
       " (1, 6),\n",
       " (24, 6),\n",
       " (43, 6),\n",
       " (45, 6),\n",
       " (38, 5),\n",
       " (3, 5),\n",
       " (36, 5),\n",
       " (42, 5),\n",
       " (19, 5),\n",
       " (12, 5),\n",
       " (10, 4),\n",
       " (5, 4),\n",
       " (13, 4),\n",
       " (25, 4),\n",
       " (41, 4),\n",
       " (29, 4),\n",
       " (15, 4),\n",
       " (20, 4),\n",
       " (50, 3),\n",
       " (32, 3),\n",
       " (16, 2),\n",
       " (37, 2),\n",
       " (2, 1),\n",
       " (30, 1)]"
      ]
     },
     "execution_count": 27,
     "metadata": {},
     "output_type": "execute_result"
    }
   ],
   "source": [
    "total_items = sales_data.countByKey()\n",
    "sorted(total_items.items(),key=lambda kv: kv[1], reverse=True)"
   ]
  },
  {
   "cell_type": "markdown",
   "metadata": {},
   "source": [
    "### Additional Reading\n",
    "\n",
    "- [The original paper on RDDs](https://cs.stanford.edu/~matei/papers/2012/nsdi_spark.pdf)\n",
    "- [RDDs in Apache Spark](https://data-flair.training/blogs/create-rdds-in-apache-spark/)\n",
    "- [Programming with RDDs](https://runawayhorse001.github.io/LearningApacheSpark/rdd.html)\n",
    "- [RDD Transformations and Actions Summary](https://www.analyticsvidhya.com/blog/2016/10/using-pyspark-to-perform-transformations-and-actions-on-rdd/)"
   ]
  },
  {
   "cell_type": "markdown",
   "metadata": {},
   "source": [
    "## Summary\n",
    "\n",
    "In this lab we went through a brief introduction to RDD creation from a Python collection, setting a number of logical partitions for an RDD and extracting lineage. We also used transformations and actions to perform calculations across RDDs on a distributed setup. In the next lab, you'll get the chance to apply these transformations on different books to calculate word counts and various statistics.\n"
   ]
  }
 ],
 "metadata": {
  "kernelspec": {
   "display_name": "Python 3",
   "language": "python",
   "name": "python3"
  },
  "language_info": {
   "codemirror_mode": {
    "name": "ipython",
    "version": 3
   },
   "file_extension": ".py",
   "mimetype": "text/x-python",
   "name": "python",
   "nbconvert_exporter": "python",
   "pygments_lexer": "ipython3",
   "version": "3.7.4"
  }
 },
 "nbformat": 4,
 "nbformat_minor": 2
}
